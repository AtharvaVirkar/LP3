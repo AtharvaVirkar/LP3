{
 "cells": [
  {
   "cell_type": "code",
   "execution_count": 3,
   "id": "63cc2123",
   "metadata": {},
   "outputs": [
    {
     "name": "stdout",
     "output_type": "stream",
     "text": [
      "Enter the number of items: 3\n",
      "Enter value for item 1: 100\n",
      "Enter weight for item 1: 20\n",
      "Enter value for item 2: 60\n",
      "Enter weight for item 2: 10\n",
      "Enter value for item 3: 120\n",
      "Enter weight for item 3: 30\n",
      "Enter the maximum capacity of the knapsack: 50\n",
      "Maximum value that can be put in the knapsack: 220\n"
     ]
    }
   ],
   "source": [
    "def knapsack_dp(w, wt, val, n):\n",
    "    k = [[0 for x in range(w+1)] for x in range(n+1)]\n",
    "    # w= capacity, n - no of items\n",
    "    for i in range(n+1):\n",
    "        for j in range(w+1):\n",
    "            if i == 0 or j == 0:\n",
    "                k[i][j] = 0\n",
    "            elif wt[i-1] <= j:\n",
    "                k[i][j] = max(val[i-1] + k[i-1][j-wt[i-1]], k[i-1][j])\n",
    "            else:\n",
    "                k[i][j] = k[i-1][j]\n",
    "    return k[n][w]\n",
    "\n",
    "# Taking user inputs\n",
    "n = int(input(\"Enter the number of items: \"))\n",
    "val = []\n",
    "wt = []\n",
    "\n",
    "for i in range(n):\n",
    "    value = int(input(f\"Enter value for item {i+1}: \"))\n",
    "    weight = int(input(f\"Enter weight for item {i+1}: \"))\n",
    "    val.append(value)\n",
    "    wt.append(weight)\n",
    "\n",
    "w = int(input(\"Enter the maximum capacity of the knapsack: \"))\n",
    "\n",
    "# Output the result\n",
    "print(\"Maximum value that can be put in the knapsack:\", knapsack_dp(w, wt, val, n))\n"
   ]
  },
  {
   "cell_type": "code",
   "execution_count": null,
   "id": "33efe937",
   "metadata": {},
   "outputs": [],
   "source": []
  }
 ],
 "metadata": {
  "kernelspec": {
   "display_name": "Python 3 (ipykernel)",
   "language": "python",
   "name": "python3"
  },
  "language_info": {
   "codemirror_mode": {
    "name": "ipython",
    "version": 3
   },
   "file_extension": ".py",
   "mimetype": "text/x-python",
   "name": "python",
   "nbconvert_exporter": "python",
   "pygments_lexer": "ipython3",
   "version": "3.11.3"
  }
 },
 "nbformat": 4,
 "nbformat_minor": 5
}
